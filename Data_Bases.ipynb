{
 "cells": [
  {
   "cell_type": "code",
   "execution_count": 1,
   "metadata": {},
   "outputs": [],
   "source": [
    "import pandas as pd\n",
    "import json\n",
    "from pathlib import Path\n",
    "import Connection_DB as DB"
   ]
  },
  {
   "cell_type": "markdown",
   "metadata": {},
   "source": [
    "### Get Data from .csv"
   ]
  },
  {
   "cell_type": "code",
   "execution_count": 2,
   "metadata": {},
   "outputs": [],
   "source": [
    "def getDatafromCSV(file):\n",
    "    #A JSON is used to save all the path from the desktop\n",
    "    #We obtain the main path of the project\n",
    "    base_dir = Path().resolve()\n",
    "    #path(): returns a object type path\n",
    "    #.resolve: resolve posible issues eith the path\n",
    "    with open(base_dir / \"config.json\", \"r\") as f:\n",
    "        paths = json.load(f)\n",
    "        #Convert a file json in a dictonary\n",
    "    #Creacion de DataFrame en pandas\n",
    "    datos= pd.read_csv(paths[file])\n",
    "    return datos"
   ]
  },
  {
   "cell_type": "code",
   "execution_count": null,
   "metadata": {},
   "outputs": [],
   "source": [
    "datos = getDatafromCSV(\"tiktoks_links_v1\")\n",
    "#DB.Insert_in_column(database,table,value)\n",
    "DB.Insert_in_column(\"collection_tk\",\"tiktok_links_v1\",datos)"
   ]
  },
  {
   "cell_type": "code",
   "execution_count": null,
   "metadata": {},
   "outputs": [],
   "source": [
    "datos = getDatafromCSV(\"collection_links_v1\")\n",
    "#print(datos.columns)\n",
    "DB.Insert_in_column(\"Collections_tk\",\"collections_v1\",datos)"
   ]
  }
 ],
 "metadata": {
  "kernelspec": {
   "display_name": "Python 3",
   "language": "python",
   "name": "python3"
  },
  "language_info": {
   "codemirror_mode": {
    "name": "ipython",
    "version": 3
   },
   "file_extension": ".py",
   "mimetype": "text/x-python",
   "name": "python",
   "nbconvert_exporter": "python",
   "pygments_lexer": "ipython3",
   "version": "3.11.3"
  }
 },
 "nbformat": 4,
 "nbformat_minor": 2
}
