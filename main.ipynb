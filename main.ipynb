{
 "cells": [
  {
   "cell_type": "code",
   "execution_count": 1,
   "metadata": {},
   "outputs": [],
   "source": [
    "import Connection_DB as DB\n",
    "import WebScraping as WB"
   ]
  },
  {
   "cell_type": "markdown",
   "metadata": {},
   "source": [
    "### Get Data from .csv"
   ]
  },
  {
   "cell_type": "code",
   "execution_count": 4,
   "metadata": {},
   "outputs": [
    {
     "name": "stdout",
     "output_type": "stream",
     "text": [
      "D:\\Users\\maick\\Desktop\\Kelly-Pero-Que-Monda\\Codigos\\Downloader-videos-and-data-analyzer\n",
      "      ID_global  ID_colleccion     Name_Collecion  \\\n",
      "0          1000              0  Escuchar a diario   \n",
      "1          1001              1  Escuchar a diario   \n",
      "2          1002              2  Escuchar a diario   \n",
      "3          1003              3  Escuchar a diario   \n",
      "4          1004              4  Escuchar a diario   \n",
      "...         ...            ...                ...   \n",
      "1536      53007              7            Postura   \n",
      "1537      53008              8            Postura   \n",
      "1538      53009              9            Postura   \n",
      "1539      53010             10            Postura   \n",
      "1540      53011             11            Postura   \n",
      "\n",
      "                                                   Link  Descargado  Video  \n",
      "0     https://www.tiktok.com/@principeszn/video/7256...        True   True  \n",
      "1     https://www.tiktok.com/@montseaguirre7/video/6...        True   True  \n",
      "2     https://www.tiktok.com/@onevisionproject/video...        True   True  \n",
      "3     https://www.tiktok.com/@carloscanalccs/video/7...        True   True  \n",
      "4     https://www.tiktok.com/@mateotiscornia/video/7...        True   True  \n",
      "...                                                 ...         ...    ...  \n",
      "1536  https://www.tiktok.com/@rominagafur/video/6951...        True   True  \n",
      "1537  https://www.tiktok.com/@quiropractico/video/70...        True   True  \n",
      "1538  https://www.tiktok.com/@aprilestephania/video/...        True   True  \n",
      "1539  https://www.tiktok.com/@desoxidate/video/69953...        True   True  \n",
      "1540  https://www.tiktok.com/@segio.fisioterapia/vid...        True   True  \n",
      "\n",
      "[1541 rows x 6 columns]\n"
     ]
    }
   ],
   "source": [
    "datos = DB.getDatafromCSV(\"tiktoks_links_v1\")\n",
    "#DB.Insert_in_column(\"collection_tk\",\"tiktok_links_v1\",datos)\n",
    "print(datos)"
   ]
  },
  {
   "cell_type": "code",
   "execution_count": null,
   "metadata": {},
   "outputs": [],
   "source": [
    "datos = DB.getDatafromCSV(\"collection_links_v1\")\n",
    "DB.Insert_in_column(\"Collections_tk\",\"collections_v1\",datos)"
   ]
  },
  {
   "cell_type": "markdown",
   "metadata": {},
   "source": [
    "### Get Data from DB"
   ]
  },
  {
   "cell_type": "markdown",
   "metadata": {},
   "source": [
    "### Get Data from Links Tiktoks Collections"
   ]
  },
  {
   "cell_type": "code",
   "execution_count": null,
   "metadata": {},
   "outputs": [],
   "source": [
    "#Get name of the columns\n",
    "#querry = DB.Querry(\"Collections_tk\",\"SELECT column_name FROM information_schema.columns WHERE table_name = 'collections_v1';\")\n",
    "\n",
    "#get the link of the collections\n",
    "querry = DB.Querry(\"Collections_tk\",\"SELECT link FROM collections_v1\")\n",
    "links = pd.DataFrame(querry)\n",
    "for link in links:\n",
    "    DC.GetLinksTiktoksFromCollection(link)\n",
    "    break"
   ]
  },
  {
   "cell_type": "code",
   "execution_count": null,
   "metadata": {},
   "outputs": [],
   "source": [
    "Cabecera=True\n",
    "# Abrir el archivo y leer sus líneas\n",
    "\n",
    "linkstiktok=GetLinksTiktoks(link_cole)\n",
    "with open(\"LinksTikToks.csv\", mode='a', newline='', encoding='utf-8') as file:\n",
    "    writer = csv.writer(file)\n",
    "# Escribir la cabecera\n",
    "    if Cabecera:\n",
    "        writer.writerow([\"ID_global\",\"ID_colleccion\",\"Name_Collecion\",\"Link\"])\n",
    "    Cabecera=False"
   ]
  },
  {
   "cell_type": "markdown",
   "metadata": {},
   "source": [
    "WEb Scrapping to get data from the tiktok collections "
   ]
  },
  {
   "cell_type": "code",
   "execution_count": 2,
   "metadata": {},
   "outputs": [
    {
     "name": "stdout",
     "output_type": "stream",
     "text": [
      "Abriendo navegador\n",
      "Doing Click in button collection\n",
      "Waiting that existed the element\n",
      "click\n",
      "Getting links of videos...\n"
     ]
    },
    {
     "ename": "TimeoutException",
     "evalue": "Message: \n",
     "output_type": "error",
     "traceback": [
      "\u001b[1;31m---------------------------------------------------------------------------\u001b[0m",
      "\u001b[1;31mTimeoutException\u001b[0m                          Traceback (most recent call last)",
      "Cell \u001b[1;32mIn[2], line 3\u001b[0m\n\u001b[0;32m      1\u001b[0m WB\u001b[38;5;241m.\u001b[39mOpenMainPageUser(\u001b[38;5;124m\"\u001b[39m\u001b[38;5;124mlink_home_page_tiktok\u001b[39m\u001b[38;5;124m\"\u001b[39m,\u001b[38;5;124m\"\u001b[39m\u001b[38;5;124mclass_button_favorite\u001b[39m\u001b[38;5;124m\"\u001b[39m)\n\u001b[0;32m      2\u001b[0m \u001b[38;5;66;03m#get the list of the links of the collections\u001b[39;00m\n\u001b[1;32m----> 3\u001b[0m number,link,name,count \u001b[38;5;241m=\u001b[39m \u001b[43mWB\u001b[49m\u001b[38;5;241;43m.\u001b[39;49m\u001b[43mGetlinkstiktoksfrompage\u001b[49m\u001b[43m(\u001b[49m\u001b[38;5;124;43m\"\u001b[39;49m\u001b[38;5;124;43mclass_collection\u001b[39;49m\u001b[38;5;124;43m\"\u001b[39;49m\u001b[43m,\u001b[49m\u001b[38;5;124;43m\"\u001b[39;49m\u001b[38;5;124;43mclass_label\u001b[39;49m\u001b[38;5;124;43m\"\u001b[39;49m\u001b[43m)\u001b[49m\n\u001b[0;32m      5\u001b[0m \u001b[38;5;28mprint\u001b[39m(number,link,name,count)\n\u001b[0;32m      6\u001b[0m \u001b[38;5;66;03m#Save in the database\u001b[39;00m\n",
      "File \u001b[1;32md:\\Users\\maick\\Desktop\\Kelly-Pero-Que-Monda\\Codigos\\Downloader-videos-and-data-analyzer\\WebScraping.py:60\u001b[0m, in \u001b[0;36mGetlinkstiktoksfrompage\u001b[1;34m(class_collection, class_text)\u001b[0m\n\u001b[0;32m     58\u001b[0m     wait\u001b[38;5;241m.\u001b[39muntil(EC\u001b[38;5;241m.\u001b[39mpresence_of_all_elements_located((By\u001b[38;5;241m.\u001b[39mCSS_SELECTOR,className\u001b[38;5;241m.\u001b[39mreplace(\u001b[38;5;124m\"\u001b[39m\u001b[38;5;124m \u001b[39m\u001b[38;5;124m\"\u001b[39m,\u001b[38;5;124m\"\u001b[39m\u001b[38;5;124m.\u001b[39m\u001b[38;5;124m\"\u001b[39m))))\n\u001b[0;32m     59\u001b[0m \u001b[38;5;28;01melse\u001b[39;00m:\n\u001b[1;32m---> 60\u001b[0m     \u001b[43mwait\u001b[49m\u001b[38;5;241;43m.\u001b[39;49m\u001b[43muntil\u001b[49m\u001b[43m(\u001b[49m\u001b[43mEC\u001b[49m\u001b[38;5;241;43m.\u001b[39;49m\u001b[43mpresence_of_all_elements_located\u001b[49m\u001b[43m(\u001b[49m\u001b[43m(\u001b[49m\u001b[43mBy\u001b[49m\u001b[38;5;241;43m.\u001b[39;49m\u001b[43mCSS_SELECTOR\u001b[49m\u001b[43m,\u001b[49m\u001b[43m \u001b[49m\u001b[38;5;124;43m\"\u001b[39;49m\u001b[38;5;124;43m.\u001b[39;49m\u001b[38;5;124;43m\"\u001b[39;49m\u001b[38;5;241;43m+\u001b[39;49m\u001b[43mclassName\u001b[49m\u001b[38;5;241;43m.\u001b[39;49m\u001b[43mreplace\u001b[49m\u001b[43m(\u001b[49m\u001b[38;5;124;43m\"\u001b[39;49m\u001b[38;5;124;43m \u001b[39;49m\u001b[38;5;124;43m\"\u001b[39;49m\u001b[43m,\u001b[49m\u001b[38;5;124;43m\"\u001b[39;49m\u001b[38;5;124;43m.\u001b[39;49m\u001b[38;5;124;43m\"\u001b[39;49m\u001b[43m)\u001b[49m\u001b[43m)\u001b[49m\u001b[43m)\u001b[49m\u001b[43m)\u001b[49m\n\u001b[0;32m     62\u001b[0m \u001b[38;5;66;03m#get the link\u001b[39;00m\n\u001b[0;32m     63\u001b[0m script  \u001b[38;5;241m=\u001b[39m \u001b[38;5;124m\"\u001b[39m\u001b[38;5;124mlet l = []; \u001b[39m\u001b[38;5;124m\"\u001b[39m\n",
      "File \u001b[1;32mc:\\Users\\maick\\AppData\\Local\\Programs\\Python\\Python311\\Lib\\site-packages\\selenium\\webdriver\\support\\wait.py:105\u001b[0m, in \u001b[0;36mWebDriverWait.until\u001b[1;34m(self, method, message)\u001b[0m\n\u001b[0;32m    103\u001b[0m     \u001b[38;5;28;01mif\u001b[39;00m time\u001b[38;5;241m.\u001b[39mmonotonic() \u001b[38;5;241m>\u001b[39m end_time:\n\u001b[0;32m    104\u001b[0m         \u001b[38;5;28;01mbreak\u001b[39;00m\n\u001b[1;32m--> 105\u001b[0m \u001b[38;5;28;01mraise\u001b[39;00m TimeoutException(message, screen, stacktrace)\n",
      "\u001b[1;31mTimeoutException\u001b[0m: Message: \n"
     ]
    }
   ],
   "source": [
    "\n",
    "WB.OpenMainPageUser(\"link_home_page_tiktok\",\"class_button_favorite\")\n",
    "#get the list of the links of the collections\n",
    "number,link,name,count = WB.Getlinkstiktoksfrompage(\"class_collection\",\"class_label\")\n",
    "\n",
    "print(number,link,name,count)\n",
    "#Save in the database\n",
    "database = \"collection_tk\"\n",
    "table = \"tiktok_links_v1\"\n",
    "#DB.Insert_in_column(table,table,collections)\n",
    "\n",
    "print(\"Esperando para cerrar...\")"
   ]
  }
 ],
 "metadata": {
  "kernelspec": {
   "display_name": "Python 3",
   "language": "python",
   "name": "python3"
  },
  "language_info": {
   "codemirror_mode": {
    "name": "ipython",
    "version": 3
   },
   "file_extension": ".py",
   "mimetype": "text/x-python",
   "name": "python",
   "nbconvert_exporter": "python",
   "pygments_lexer": "ipython3",
   "version": "3.11.3"
  }
 },
 "nbformat": 4,
 "nbformat_minor": 2
}
