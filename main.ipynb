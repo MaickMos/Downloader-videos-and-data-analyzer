{
 "cells": [
  {
   "cell_type": "code",
   "execution_count": null,
   "metadata": {},
   "outputs": [],
   "source": [
    "import Connection_DB as DB"
   ]
  },
  {
   "cell_type": "markdown",
   "metadata": {},
   "source": [
    "### Get Data from .csv"
   ]
  },
  {
   "cell_type": "code",
   "execution_count": null,
   "metadata": {},
   "outputs": [],
   "source": [
    "datos = DB.getDatafromCSV(\"tiktoks_links_v1\")\n",
    "DB.Insert_in_column(\"collection_tk\",\"tiktok_links_v1\",datos)"
   ]
  },
  {
   "cell_type": "code",
   "execution_count": null,
   "metadata": {},
   "outputs": [],
   "source": [
    "datos = DB.getDatafromCSV(\"collection_links_v1\")\n",
    "DB.Insert_in_column(\"Collections_tk\",\"collections_v1\",datos)"
   ]
  },
  {
   "cell_type": "markdown",
   "metadata": {},
   "source": [
    "### Get Data from DB"
   ]
  },
  {
   "cell_type": "markdown",
   "metadata": {},
   "source": [
    "### Get Data from Links Tiktoks Collections"
   ]
  },
  {
   "cell_type": "code",
   "execution_count": null,
   "metadata": {},
   "outputs": [],
   "source": [
    "#Get name of the columns\n",
    "#querry = DB.Querry(\"Collections_tk\",\"SELECT column_name FROM information_schema.columns WHERE table_name = 'collections_v1';\")\n",
    "\n",
    "#get the link of the collections\n",
    "querry = DB.Querry(\"Collections_tk\",\"SELECT link FROM collections_v1\")\n",
    "links = pd.DataFrame(querry)\n",
    "for link in links:\n",
    "    DC.GetLinksTiktoksFromCollection(link)\n",
    "    break"
   ]
  },
  {
   "cell_type": "code",
   "execution_count": null,
   "metadata": {},
   "outputs": [],
   "source": [
    "Cabecera=True\n",
    "# Abrir el archivo y leer sus líneas\n",
    "\n",
    "linkstiktok=GetLinksTiktoks(link_cole)\n",
    "with open(\"LinksTikToks.csv\", mode='a', newline='', encoding='utf-8') as file:\n",
    "    writer = csv.writer(file)\n",
    "# Escribir la cabecera\n",
    "    if Cabecera:\n",
    "        writer.writerow([\"ID_global\",\"ID_colleccion\",\"Name_Collecion\",\"Link\"])\n",
    "    Cabecera=False"
   ]
  }
 ],
 "metadata": {
  "kernelspec": {
   "display_name": "Python 3",
   "language": "python",
   "name": "python3"
  },
  "language_info": {
   "codemirror_mode": {
    "name": "ipython",
    "version": 3
   },
   "file_extension": ".py",
   "mimetype": "text/x-python",
   "name": "python",
   "nbconvert_exporter": "python",
   "pygments_lexer": "ipython3",
   "version": "3.11.3"
  }
 },
 "nbformat": 4,
 "nbformat_minor": 2
}
